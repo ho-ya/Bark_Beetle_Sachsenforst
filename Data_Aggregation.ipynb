{
 "cells": [
  {
   "cell_type": "code",
   "execution_count": 67,
   "metadata": {},
   "outputs": [],
   "source": [
    "import pandas as pd\n",
    "import geopandas as gpd\n",
    "import matplotlib.pyplot as plt\n",
    "import matplotlib.patches as patches\n",
    "import numpy as np"
   ]
  },
  {
   "cell_type": "code",
   "execution_count": 68,
   "metadata": {},
   "outputs": [],
   "source": [
    "infestation_history = pd.read_excel(r'data_raw/ML_BDR_20201019.xlsx')"
   ]
  },
  {
   "cell_type": "code",
   "execution_count": 69,
   "metadata": {},
   "outputs": [
    {
     "data": {
      "text/html": [
       "<div>\n",
       "<style scoped>\n",
       "    .dataframe tbody tr th:only-of-type {\n",
       "        vertical-align: middle;\n",
       "    }\n",
       "\n",
       "    .dataframe tbody tr th {\n",
       "        vertical-align: top;\n",
       "    }\n",
       "\n",
       "    .dataframe thead th {\n",
       "        text-align: right;\n",
       "    }\n",
       "</style>\n",
       "<table border=\"1\" class=\"dataframe\">\n",
       "  <thead>\n",
       "    <tr style=\"text-align: right;\">\n",
       "      <th></th>\n",
       "      <th>LK</th>\n",
       "      <th>LK-Nr</th>\n",
       "      <th>LK-Rev</th>\n",
       "      <th>REVUFBADR</th>\n",
       "      <th>Jahr</th>\n",
       "      <th>ZR</th>\n",
       "      <th>Eigentumsgruppe</th>\n",
       "      <th>Zugang</th>\n",
       "      <th>Abgang</th>\n",
       "    </tr>\n",
       "  </thead>\n",
       "  <tbody>\n",
       "    <tr>\n",
       "      <th>0</th>\n",
       "      <td>BZ</td>\n",
       "      <td>25</td>\n",
       "      <td>1</td>\n",
       "      <td>2501</td>\n",
       "      <td>2007</td>\n",
       "      <td>06 Juni</td>\n",
       "      <td>SW</td>\n",
       "      <td>5.0</td>\n",
       "      <td>0.0</td>\n",
       "    </tr>\n",
       "    <tr>\n",
       "      <th>1</th>\n",
       "      <td>BZ</td>\n",
       "      <td>25</td>\n",
       "      <td>1</td>\n",
       "      <td>2501</td>\n",
       "      <td>2007</td>\n",
       "      <td>08 August</td>\n",
       "      <td>SW</td>\n",
       "      <td>12.0</td>\n",
       "      <td>12.0</td>\n",
       "    </tr>\n",
       "    <tr>\n",
       "      <th>2</th>\n",
       "      <td>BZ</td>\n",
       "      <td>25</td>\n",
       "      <td>1</td>\n",
       "      <td>2501</td>\n",
       "      <td>2007</td>\n",
       "      <td>10 Oktober-Dezember</td>\n",
       "      <td>SW</td>\n",
       "      <td>2.0</td>\n",
       "      <td>0.0</td>\n",
       "    </tr>\n",
       "    <tr>\n",
       "      <th>3</th>\n",
       "      <td>BZ</td>\n",
       "      <td>25</td>\n",
       "      <td>1</td>\n",
       "      <td>2501</td>\n",
       "      <td>2008</td>\n",
       "      <td>04 April</td>\n",
       "      <td>SW</td>\n",
       "      <td>1.0</td>\n",
       "      <td>0.0</td>\n",
       "    </tr>\n",
       "    <tr>\n",
       "      <th>4</th>\n",
       "      <td>BZ</td>\n",
       "      <td>25</td>\n",
       "      <td>1</td>\n",
       "      <td>2501</td>\n",
       "      <td>2008</td>\n",
       "      <td>06 Juni</td>\n",
       "      <td>SW</td>\n",
       "      <td>2.0</td>\n",
       "      <td>0.0</td>\n",
       "    </tr>\n",
       "  </tbody>\n",
       "</table>\n",
       "</div>"
      ],
      "text/plain": [
       "   LK  LK-Nr  LK-Rev  REVUFBADR  Jahr                   ZR Eigentumsgruppe  \\\n",
       "0  BZ     25       1       2501  2007              06 Juni              SW   \n",
       "1  BZ     25       1       2501  2007            08 August              SW   \n",
       "2  BZ     25       1       2501  2007  10 Oktober-Dezember              SW   \n",
       "3  BZ     25       1       2501  2008             04 April              SW   \n",
       "4  BZ     25       1       2501  2008              06 Juni              SW   \n",
       "\n",
       "   Zugang  Abgang  \n",
       "0     5.0     0.0  \n",
       "1    12.0    12.0  \n",
       "2     2.0     0.0  \n",
       "3     1.0     0.0  \n",
       "4     2.0     0.0  "
      ]
     },
     "execution_count": 69,
     "metadata": {},
     "output_type": "execute_result"
    }
   ],
   "source": [
    "infestation_history.head()"
   ]
  },
  {
   "cell_type": "markdown",
   "metadata": {},
   "source": [
    "## Forestry Districts"
   ]
  },
  {
   "cell_type": "markdown",
   "metadata": {},
   "source": [
    "The 'REVUFBADR' column contains a unique identifier for the forstry districts. The first two digits indicate the county (Landkreis) and the last two digits indicate the number of the district in this county. \n",
    "\n",
    "In some forestry districts the district number (last two digits) begins with a leading 9 instead of a leading 0:"
   ]
  },
  {
   "cell_type": "code",
   "execution_count": 70,
   "metadata": {},
   "outputs": [
    {
     "data": {
      "text/plain": [
       "array([2501, 2502, 2503, 2504, 2505, 2506, 2507, 2508, 2509, 2510, 1101,\n",
       "       1201, 2101, 2102, 2103, 2104, 2105, 2106, 2107, 2191, 2192, 2193,\n",
       "       2194, 2195, 2196, 2197, 2198, 2201, 2202, 2203, 2204, 2601, 2602,\n",
       "       2603, 2604, 2605, 2606, 2691, 2901, 2902, 2701, 2702, 2703, 2704,\n",
       "       2791, 2792, 2793, 2801, 2802, 2803, 2804, 2805, 3001, 3002, 3003,\n",
       "       2301, 2302, 2303, 2304, 2305, 2306, 2401, 2402], dtype=int64)"
      ]
     },
     "execution_count": 70,
     "metadata": {},
     "output_type": "execute_result"
    }
   ],
   "source": [
    "# display all forestry district numbers\n",
    "infestation_history.REVUFBADR.unique()"
   ]
  },
  {
   "cell_type": "markdown",
   "metadata": {},
   "source": [
    "During the observation timeframe, some of the districts (*Erzgebirgskreis* and *Meißen*) underwent a restructuring process. A leading 9 instead of a leading 0 signifies that the border of the district was different than it is today.  We can see when these changes happened with the following code:"
   ]
  },
  {
   "cell_type": "code",
   "execution_count": 71,
   "metadata": {},
   "outputs": [
    {
     "data": {
      "text/html": [
       "<div>\n",
       "<style scoped>\n",
       "    .dataframe tbody tr th:only-of-type {\n",
       "        vertical-align: middle;\n",
       "    }\n",
       "\n",
       "    .dataframe tbody tr th {\n",
       "        vertical-align: top;\n",
       "    }\n",
       "\n",
       "    .dataframe thead th {\n",
       "        text-align: right;\n",
       "    }\n",
       "</style>\n",
       "<table border=\"1\" class=\"dataframe\">\n",
       "  <thead>\n",
       "    <tr style=\"text-align: right;\">\n",
       "      <th></th>\n",
       "      <th>LK</th>\n",
       "      <th>LK-Nr</th>\n",
       "      <th>LK-Rev</th>\n",
       "      <th>Jahr</th>\n",
       "      <th>ZR</th>\n",
       "      <th>Eigentumsgruppe</th>\n",
       "      <th>Zugang</th>\n",
       "      <th>Abgang</th>\n",
       "    </tr>\n",
       "    <tr>\n",
       "      <th>REVUFBADR</th>\n",
       "      <th></th>\n",
       "      <th></th>\n",
       "      <th></th>\n",
       "      <th></th>\n",
       "      <th></th>\n",
       "      <th></th>\n",
       "      <th></th>\n",
       "      <th></th>\n",
       "    </tr>\n",
       "  </thead>\n",
       "  <tbody>\n",
       "    <tr>\n",
       "      <th>2191</th>\n",
       "      <td>ERZ</td>\n",
       "      <td>21</td>\n",
       "      <td>91</td>\n",
       "      <td>2014</td>\n",
       "      <td>10 Oktober-Dezember</td>\n",
       "      <td>SW</td>\n",
       "      <td>4430.82</td>\n",
       "      <td>4701.61</td>\n",
       "    </tr>\n",
       "    <tr>\n",
       "      <th>2192</th>\n",
       "      <td>ERZ</td>\n",
       "      <td>21</td>\n",
       "      <td>92</td>\n",
       "      <td>2014</td>\n",
       "      <td>10 Oktober-Dezember</td>\n",
       "      <td>SW</td>\n",
       "      <td>2029.06</td>\n",
       "      <td>2185.31</td>\n",
       "    </tr>\n",
       "    <tr>\n",
       "      <th>2193</th>\n",
       "      <td>ERZ</td>\n",
       "      <td>21</td>\n",
       "      <td>93</td>\n",
       "      <td>2014</td>\n",
       "      <td>10 Oktober-Dezember</td>\n",
       "      <td>SW</td>\n",
       "      <td>231.00</td>\n",
       "      <td>238.00</td>\n",
       "    </tr>\n",
       "    <tr>\n",
       "      <th>2194</th>\n",
       "      <td>ERZ</td>\n",
       "      <td>21</td>\n",
       "      <td>94</td>\n",
       "      <td>2014</td>\n",
       "      <td>10 Oktober-Dezember</td>\n",
       "      <td>SW</td>\n",
       "      <td>445.00</td>\n",
       "      <td>460.00</td>\n",
       "    </tr>\n",
       "    <tr>\n",
       "      <th>2195</th>\n",
       "      <td>ERZ</td>\n",
       "      <td>21</td>\n",
       "      <td>95</td>\n",
       "      <td>2014</td>\n",
       "      <td>10 Oktober-Dezember</td>\n",
       "      <td>SW</td>\n",
       "      <td>1238.38</td>\n",
       "      <td>1219.88</td>\n",
       "    </tr>\n",
       "    <tr>\n",
       "      <th>2196</th>\n",
       "      <td>ERZ</td>\n",
       "      <td>21</td>\n",
       "      <td>96</td>\n",
       "      <td>2014</td>\n",
       "      <td>10 Oktober-Dezember</td>\n",
       "      <td>SW</td>\n",
       "      <td>1140.88</td>\n",
       "      <td>1157.92</td>\n",
       "    </tr>\n",
       "    <tr>\n",
       "      <th>2197</th>\n",
       "      <td>ERZ</td>\n",
       "      <td>21</td>\n",
       "      <td>97</td>\n",
       "      <td>2014</td>\n",
       "      <td>10 Oktober-Dezember</td>\n",
       "      <td>SW</td>\n",
       "      <td>1035.00</td>\n",
       "      <td>1268.00</td>\n",
       "    </tr>\n",
       "    <tr>\n",
       "      <th>2198</th>\n",
       "      <td>ERZ</td>\n",
       "      <td>21</td>\n",
       "      <td>98</td>\n",
       "      <td>2014</td>\n",
       "      <td>10 Oktober-Dezember</td>\n",
       "      <td>SW</td>\n",
       "      <td>175.75</td>\n",
       "      <td>164.35</td>\n",
       "    </tr>\n",
       "    <tr>\n",
       "      <th>2691</th>\n",
       "      <td>GR</td>\n",
       "      <td>26</td>\n",
       "      <td>91</td>\n",
       "      <td>2020</td>\n",
       "      <td>10 Oktober-Dezember</td>\n",
       "      <td>NSW</td>\n",
       "      <td>18000.00</td>\n",
       "      <td>15200.00</td>\n",
       "    </tr>\n",
       "    <tr>\n",
       "      <th>2791</th>\n",
       "      <td>MEI</td>\n",
       "      <td>27</td>\n",
       "      <td>91</td>\n",
       "      <td>2013</td>\n",
       "      <td>01 Januar-März</td>\n",
       "      <td>NSW</td>\n",
       "      <td>15.00</td>\n",
       "      <td>15.00</td>\n",
       "    </tr>\n",
       "    <tr>\n",
       "      <th>2792</th>\n",
       "      <td>MEI</td>\n",
       "      <td>27</td>\n",
       "      <td>92</td>\n",
       "      <td>2013</td>\n",
       "      <td>10 Oktober-Dezember</td>\n",
       "      <td>SW</td>\n",
       "      <td>271.25</td>\n",
       "      <td>209.75</td>\n",
       "    </tr>\n",
       "    <tr>\n",
       "      <th>2793</th>\n",
       "      <td>MEI</td>\n",
       "      <td>27</td>\n",
       "      <td>93</td>\n",
       "      <td>2013</td>\n",
       "      <td>10 Oktober-Dezember</td>\n",
       "      <td>SW</td>\n",
       "      <td>70.00</td>\n",
       "      <td>72.00</td>\n",
       "    </tr>\n",
       "  </tbody>\n",
       "</table>\n",
       "</div>"
      ],
      "text/plain": [
       "            LK  LK-Nr  LK-Rev  Jahr                   ZR Eigentumsgruppe  \\\n",
       "REVUFBADR                                                                  \n",
       "2191       ERZ     21      91  2014  10 Oktober-Dezember              SW   \n",
       "2192       ERZ     21      92  2014  10 Oktober-Dezember              SW   \n",
       "2193       ERZ     21      93  2014  10 Oktober-Dezember              SW   \n",
       "2194       ERZ     21      94  2014  10 Oktober-Dezember              SW   \n",
       "2195       ERZ     21      95  2014  10 Oktober-Dezember              SW   \n",
       "2196       ERZ     21      96  2014  10 Oktober-Dezember              SW   \n",
       "2197       ERZ     21      97  2014  10 Oktober-Dezember              SW   \n",
       "2198       ERZ     21      98  2014  10 Oktober-Dezember              SW   \n",
       "2691        GR     26      91  2020  10 Oktober-Dezember             NSW   \n",
       "2791       MEI     27      91  2013       01 Januar-März             NSW   \n",
       "2792       MEI     27      92  2013  10 Oktober-Dezember              SW   \n",
       "2793       MEI     27      93  2013  10 Oktober-Dezember              SW   \n",
       "\n",
       "             Zugang    Abgang  \n",
       "REVUFBADR                      \n",
       "2191        4430.82   4701.61  \n",
       "2192        2029.06   2185.31  \n",
       "2193         231.00    238.00  \n",
       "2194         445.00    460.00  \n",
       "2195        1238.38   1219.88  \n",
       "2196        1140.88   1157.92  \n",
       "2197        1035.00   1268.00  \n",
       "2198         175.75    164.35  \n",
       "2691       18000.00  15200.00  \n",
       "2791          15.00     15.00  \n",
       "2792         271.25    209.75  \n",
       "2793          70.00     72.00  "
      ]
     },
     "execution_count": 71,
     "metadata": {},
     "output_type": "execute_result"
    }
   ],
   "source": [
    "infestation_history[infestation_history['LK-Rev'] >= 90].groupby('REVUFBADR').max()"
   ]
  },
  {
   "cell_type": "markdown",
   "metadata": {},
   "source": [
    "We could do this grouping by 'LK-Rev' because the two parts of 'REVUFBADR' also appear in the 'LK-Nr' and 'LK-Rev' columns seperately. This also means that they are redundant. We check if the information the three columns contain are really the same for every observation and then drop 'LK-Nr' and 'LK-Rev':"
   ]
  },
  {
   "cell_type": "code",
   "execution_count": 72,
   "metadata": {},
   "outputs": [
    {
     "data": {
      "text/plain": [
       "True"
      ]
     },
     "execution_count": 72,
     "metadata": {},
     "output_type": "execute_result"
    }
   ],
   "source": [
    "# first column as a string\n",
    "lk_nr = infestation_history['LK-Nr'].astype(str) \n",
    "# second column as a string with leading zero\n",
    "lk_rev = infestation_history['LK-Rev'].astype(str).apply(lambda x: x.zfill(2)) \n",
    "\n",
    "# concatenate these strings and check if they are identical to the 'REVUFBADR' column at every observation\n",
    "(lk_nr + lk_rev == infestation_history['REVUFBADR'].astype(str)).all() "
   ]
  },
  {
   "cell_type": "code",
   "execution_count": 73,
   "metadata": {},
   "outputs": [],
   "source": [
    "# drop 'LK-Nr' and 'LK-Rev' columns because the information is also found in 'REVUFBADR'\n",
    "infestation_history.drop(['LK-Nr', 'LK-Rev'], axis=1, inplace=True)\n",
    "\n",
    "# the 'LK' column is also redundant as it contains a string that matches its 'LK-Rev' column\n",
    "# since we can use it in the EDA more intuitively than just the different 'REVUFBADR' numbers we will keep it for now"
   ]
  },
  {
   "cell_type": "markdown",
   "metadata": {},
   "source": [
    "Now we continue examining the cases with leading 9s. The *Stadtwald Zittau* (REVUFBADR 2691) is a special case among those special cases. According to Sachsenforst the correct procedure is to just add the corresponding observations to the forestry district *Zittau* (REVUFBADR 2601)."
   ]
  },
  {
   "cell_type": "code",
   "execution_count": 74,
   "metadata": {},
   "outputs": [],
   "source": [
    "# in column 'REVUFBADR' change all occurrences of 2691 to 2601\n",
    "infestation_history['REVUFBADR'] = infestation_history['REVUFBADR'].replace(2691, 2601)"
   ]
  },
  {
   "cell_type": "code",
   "execution_count": 75,
   "metadata": {},
   "outputs": [],
   "source": [
    "# aggregate the values by summing them together for the 'Zugang' and 'Abgang' columns if every other column value is the same\n",
    "infestation_history['Zugang'] = infestation_history.groupby(['REVUFBADR', 'Jahr', 'ZR', 'Eigentumsgruppe'])['Zugang'].transform('sum')\n",
    "infestation_history['Abgang'] = infestation_history.groupby(['REVUFBADR', 'Jahr', 'ZR', 'Eigentumsgruppe'])['Abgang'].transform('sum')\n",
    "\n",
    "# Now drop the duplicated rows that were just created\n",
    "infestation_history.drop_duplicates(inplace=True)"
   ]
  },
  {
   "cell_type": "code",
   "execution_count": 76,
   "metadata": {},
   "outputs": [
    {
     "data": {
      "text/plain": [
       "(8009, 7)"
      ]
     },
     "execution_count": 76,
     "metadata": {},
     "output_type": "execute_result"
    }
   ],
   "source": [
    "infestation_history.shape"
   ]
  },
  {
   "cell_type": "markdown",
   "metadata": {},
   "source": [
    "For the remaining forestry districts we need to distinguish between the old borders and the new ones. Sachsenforst supplied us with two shape files, one with all current district borders and one with only the borders of the old districts that were different than they are now. We only have to change the 'REVUFBADR' numbers for the abolished districts so they match the format with the leading 9s and then merge both geodataframes."
   ]
  }
 ],
 "metadata": {
  "kernelspec": {
   "display_name": "Python 3",
   "language": "python",
   "name": "python3"
  },
  "language_info": {
   "codemirror_mode": {
    "name": "ipython",
    "version": 3
   },
   "file_extension": ".py",
   "mimetype": "text/x-python",
   "name": "python",
   "nbconvert_exporter": "python",
   "pygments_lexer": "ipython3",
   "version": "3.7.7"
  }
 },
 "nbformat": 4,
 "nbformat_minor": 4
}
